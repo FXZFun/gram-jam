{
 "cells": [
  {
   "cell_type": "code",
   "execution_count": 25,
   "metadata": {},
   "outputs": [],
   "source": [
    "import pandas as pd\n",
    "import matplotlib.pyplot as plt\n",
    "import math\n",
    "import firebase_admin\n",
    "from firebase_admin import firestore"
   ]
  },
  {
   "cell_type": "code",
   "execution_count": 2,
   "metadata": {},
   "outputs": [],
   "source": [
    "cred = firebase_admin.credentials.Certificate('./gramjam-7b408-firebase-adminsdk-z4za6-90b0b4291e.json')\n",
    "app = firebase_admin.initialize_app(cred)"
   ]
  },
  {
   "cell_type": "code",
   "execution_count": 29,
   "metadata": {},
   "outputs": [
    {
     "data": {
      "text/plain": [
       "<AxesSubplot:>"
      ]
     },
     "execution_count": 29,
     "metadata": {},
     "output_type": "execute_result"
    },
    {
     "data": {
      "image/png": "[encoded data removed]",
      "text/plain": [
       "<Figure size 432x288 with 1 Axes>"
      ]
     },
     "metadata": {
      "needs_background": "light"
     },
     "output_type": "display_data"
    }
   ],
   "source": [
    "%matplotlib inline\n",
    "\n",
    "db = firestore.client()\n",
    "\n",
    "analytics = db.collection('analytics')\n",
    "\n",
    "docs = analytics.stream()\n",
    "df = pd.DataFrame(d.to_dict() for d in docs)\n",
    "df['turns'][df['turns'] > 0].map(math.log).hist()\n"
   ]
  },
  {
   "cell_type": "code",
   "execution_count": 24,
   "metadata": {},
   "outputs": [
    {
     "data": {
      "image/png": "[encoded data removed]",
      "text/plain": [
       "<Figure size 432x288 with 1 Axes>"
      ]
     },
     "metadata": {
      "needs_background": "light"
     },
     "output_type": "display_data"
    }
   ],
   "source": [
    "plt.hist(df['duration'], log=True)\n",
    "plt.show()"
   ]
  },
  {
   "cell_type": "code",
   "execution_count": 31,
   "metadata": {},
   "outputs": [
    {
     "name": "stdout",
     "output_type": "stream",
     "text": [
      "{'userId': 'd622c4b9-3faf-4461-ba97-ad5f8c045c94', 'feedback': 'OMG I love your game!', 'date': DatetimeWithNanoseconds(2022, 4, 24, 1, 40, 39, 408000, tzinfo=datetime.timezone.utc)}\n"
     ]
    }
   ],
   "source": [
    "feedback = db.collection('feedback')\n",
    "for doc in feedback.stream():\n",
    "    print(doc.to_dict())"
   ]
  },
  {
   "cell_type": "code",
   "execution_count": null,
   "metadata": {},
   "outputs": [],
   "source": []
  }
 ],
 "metadata": {
  "interpreter": {
   "hash": "f5fd1d29b5a346587d3d2777d57dddd3c6d9b77b2d9c168ef5b3f1b940e32ef0"
  },
  "kernelspec": {
   "display_name": "Python 3.8.10 ('analytics-Si4Hb6NL-py3.8')",
   "language": "python",
   "name": "python3"
  },
  "language_info": {
   "codemirror_mode": {
    "name": "ipython",
    "version": 3
   },
   "file_extension": ".py",
   "mimetype": "text/x-python",
   "name": "python",
   "nbconvert_exporter": "python",
   "pygments_lexer": "ipython3",
   "version": "3.8.10"
  },
  "orig_nbformat": 4
 },
 "nbformat": 4,
 "nbformat_minor": 2
}
